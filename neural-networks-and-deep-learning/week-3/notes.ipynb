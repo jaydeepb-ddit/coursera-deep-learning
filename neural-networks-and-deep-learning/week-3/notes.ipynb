{
 "cells": [
  {
   "cell_type": "markdown",
   "metadata": {},
   "source": [
    "# Week 3 Notes"
   ]
  },
  {
   "cell_type": "markdown",
   "metadata": {},
   "source": [
    "## Neural Network Overview\n",
    "\n",
    "A general neural network propagates the logistic model we say to have more layers of neurons (the number of neurons in each layer can vary). The first layer of input features and the final layer of output target remain the same. \n",
    "\n",
    "The extra layers of neurons are hidden and so often referred to as hidden layers.\n",
    "\n",
    "![input, hidden and output layers](https://static.packt-cdn.com/products/9781788397872/graphics/1ebc2a0a-2123-4351-b7e1-eb57f098bafa.png)\n",
    "\n",
    "\n",
    "## Neural Network Representation\n",
    "\n",
    "Inside each neuron a two step operation takes place: firstly - a linear sum of the inputs, then secondly it is activated via a non-linear output to produce the output which becomes input to the next layer, (or else the final output if at the final layer)\n",
    "\n",
    "![two step computations](https://cdn-images-1.medium.com/max/1200/1*uyIJXyLOI4-ETDmcWFsKvQ.png)\n",
    "\n",
    "We're going to use the notation below to label the graphs and develop calculations:\n",
    "\n",
    "$\\mathbf{n} = [n^{[0]}, n^{[1]}, ...,n^{[L]}]$ is the vector giving the architecture of the network. In it, $n_i$ is the number of neurons at layer $i$, $i=1, \\ldots, L$.\n",
    "\n",
    "$w^{[i]}_{j}$ is the vector of weights on layer i which maps the inputs of neuron j to the linear combination. The shape of  $w^{[i]}_{j}$ is $(n^{[i-1]}, 1)$, that is to say it is a column vector of length $n^{[i-1]}$. The $k^{th}$ (for $k=0,\\ldots,n^{[i-1]}$) component in this vector is is $w^{[i]}_{j}(k)$, this scalar is the weighting put on $k^{th}$ input of layer $i$ which goes into the linear combination of neuron $j$.\n",
    "There are $n_i$ such vectors.\n",
    "\n",
    "$b^{[i]}_{j}$ is a scalar, that is the bias of the linear combination in the neuron $j$ at layer $i$.\n",
    "\n",
    "$z^{[i]}_{j}$ is the linear combination in neuron $j$ at layer $i$, this is the product-sum of the weights and inputs to neuron $j$ at layer $i$ plus the bias, $b^{[i]}_{j}$. The inputs are $a^{[i-1]}_{1}, \\ldots, a^{[i-1]}_{n^{[i-1]}}$. That is:\n",
    "\n",
    "$z^{[i]}_{j} = {w^{[i]}_{j}}^T \\cdot (a^{[i-1]}_{0}, \\ldots, a^{[i-1]}_{i}) + b^{[i]}_{j} $\n",
    "\n",
    "$g^{[i]}_{j}$ is the activation function of the linear combination ($z^{[i]}_{j}$) in neuron $j$ at layer $i$ - denoted by  $g^{[i]}_{j}$. \n",
    "\n",
    "$a^{[i]}_{j}$ is $g^{[i]}_{j}(z^{[i]}_{j})$ the scalar activated value which neuron $j$ of layer $i$ outputs - this is the input to the next layer, $(i+1)$. There are $n_i$ such activations\n",
    "\n",
    "These can be combined into matrices and vectors over the neurons in each layer.\n",
    "\n",
    "## Computing Neural Network Output\n",
    "\n",
    "$W^{[i]}$ is a matrix of size $(n^{[i-1]}, n^{[i]})$. Row $i$ is the vector of weights for a neuron on layer $j$, transposed. Mathematically:\n",
    "\n",
    "$W^{[i]}_{j} = {w^{[i]}_{j}}^T$\n",
    "\n",
    "$B^{[i]}$ is a vector of size $(n^{[i]}, 1)$. It is a column vector of the bias on each neuron in layer $i$. Row $j$ is the bias (scalar) on neuron $j$ at layer $i$.\n",
    "\n",
    "$Z^{[i]}$ is a vector of size $(n^{[i]}, 1)$.  It is a column vector where row $j$ is (the scalar) linear combination on neuron $j$ on the example.\n",
    "\n",
    "$A^{[i]}$ is a vector of size $(n^{[i]}, 1)$. It is a column vector where row $j$ is the (sclar) linear combination of weights, bias and inputs on neuron $j$. \n",
    "\n",
    "$G$ is a matrix of size $(n^{[i]}, n^{[i-1]})$. It is matrix where row $i$, column $j$ is the scalar activation function to be applied on layer $i$ of neuron $j$ of the example. \n",
    "\n",
    "For a single example, then $x = A^{[0]}$  and $\\hat{y} = A^{[L]}$. So that $x$ (input features) and $\\hat{y}$ (estimated label) are just neurons of the neural network (albeit input and output neurons).\n",
    "\n",
    "We can write a recurrence relation using this:\n",
    "\n",
    "Starting with $A^{[0]} = x$:\n",
    "\n",
    "$Z^{[i]} = W^{[i]} \\cdot A^{[i-1]}  + B^{[i]}$\n",
    "\n",
    "$A^{[i+1]} = G^{[i]}(Z^{[i]})$\n",
    "\n",
    "repeated until we get to the final output layer.\n",
    "\n",
    "This allows us to compute the estimated label (or its distribution) for a general network.\n",
    "\n",
    "By convention the first layer is called the $0^{th}$ layer and so a network with just 1 hidden layer and 1 output is called a 2 layer network. In other words, the initial input layer isn't counted when referencing the number of layers of a network."
   ]
  },
  {
   "cell_type": "markdown",
   "metadata": {},
   "source": [
    "## Vectorizing Across Multilple Examples\n",
    "\n",
    "If we set the input layer to be the feature matrix $X$ (of shape $(n_x, m) = (n^{[0]}, n^{[-1]})$) and the output layer to be estimating the target vector $Y$, then we only need a small adjustment to our matrix-vector equations which compute the estimated target.\n",
    "\n",
    "We can write a recurrence relation using this:\n",
    "\n",
    "Starting with $A^{[0]} = X$:\n",
    "\n",
    "$Z_{X}^{[i]} = W^{[i]} \\cdot A_{X}^{[i-1]}  + B^{[i]}$\n",
    "\n",
    "$A_{X}^{[i+1]} =  G_{X}^{[i]}(Z_{X}^{[i]})$\n",
    "\n",
    "repeated until we get to the final output layer. This does change the dimensions of $Z$, $G$ and $A$, denoted as $Z_{X}, G_{X}, A_{X}$ adding $m$ columns to the column vector - one for each example. The number of rows stays the same as before.\n"
   ]
  },
  {
   "cell_type": "markdown",
   "metadata": {
    "heading_collapsed": true
   },
   "source": [
    "## Activation Functions\n",
    "\n",
    "There are five main activation functions that are used in practice, although any non-linear unary function could be used. These are:\n",
    "\n",
    "- identity of linear unit\n",
    "- sigmoid\n",
    "- tanh\n",
    "- relu (rectified linear unit)\n",
    "- leaky relu \n",
    "\n",
    "Of these the hidden layers are recommended to be modelled by relu or leaky relu. The tanh is preferred to the sigmoid as numerical optimization and convergence is better.\n",
    "\n",
    "For the output layer, depending on the application identity or sigmoid are generally preferred, although there maybe occassions where relu makes sense. We'll discuss these in some detail below:\n"
   ]
  },
  {
   "cell_type": "markdown",
   "metadata": {
    "hidden": true
   },
   "source": [
    "### Identity\n",
    "\n",
    "Good for output layer in cases such as regressions.\n",
    "\n",
    "if used in hidden layer, have no effect and train just a linear model.\n",
    "\n",
    "### Sigmoid\n",
    "\n",
    "$\\text{sigmoid}(x) = (1 + e(-x))^{-1}$\n",
    "\n",
    "Historically used as the activation unit in hidden layers, it is between 0 and 1. The sigmoid suffers from flat gradients when input is very large or very small (|input| > 3). \n",
    "\n",
    "Since training the network depends on the gradient descent algorithm, and the gradient wrt to the parameters is calculated via the chain rule these flat activation unit gradients are a problem. They will multiply together in the chain rule, so that small gradients become exponentially or vanishingly small. As a consequence, the gradient at these small parameters values will be small. This then means that the parameter update of the gradient descent iteration step will be small. Very slow progress will occur in improving the cost function.\n",
    "\n",
    "The sigmoid still has use case, in binary classification for output layer, because its output can be interpreted as a probability.\n",
    "\n",
    "Also since the sigmoid function is always positive - the gradient updates to the parameters will tend to make parameters more negative or more positive, they won't move around and try other combinations as easily. \n",
    "\n",
    "### Tanh\n",
    "\n",
    "Strictly preferred to the sigmoid (of which tanh is a shift; $tanh(x) = 1 - 2\\sigma(x)$) since it is 0 at 0 - which means that it learns away from 0 as the gradient is high either side - this means the parameters will increase and decrease in absolute value, different from the sigmoid activation. $tanh$ suffers from the same problem as sigmoid for very large or very small input values, the gradient of the cost function becomes vanishingly close to 0 since the function is flat.\n",
    "\n",
    "It can be used in hidden layers, but the preference is for the RELU below.\n",
    "\n",
    "### RELU\n",
    "\n",
    "This is the $\\text{max}(0,z)$\n",
    "\n",
    "Has good properties due to constant gradient so function improvements continue to happen. If the linear combination is high, then the gradient there will still remain 1. That is to say, very large values still contribute to gradient update. So the cost function will continue decreasing.\n",
    "\n",
    "However, since there are other terms in the chain rule of the gradient it is possible that we suffer from another problem - that of exploding gradients. When the gradients explode the approximation is no longer valid and floating point precision errors can occur.\n",
    "\n",
    "When negative the gradient is 0, so some dying neuron activations will not contribute.\n",
    "\n",
    "### Leaky RELU\n",
    "\n",
    "$\\text{leaky_relu}(x) = x$ if $x > 0$ or  $0.001x$ if $x<0$\n",
    "\n",
    "As above, has good properties due to constant gradient so cost function improvements continue to happen. Some say it is better than relu since (slower) learning can happen when it is negative.\n",
    "\n",
    "One can replace the small coefficient of $x$ by a parameter to be learned.\n",
    "\n",
    "### SoftMax\n",
    "\n",
    "The softmax activation function is used for the output layer when the task is a multinomial classification. It produces a vector positive numbers that sume to 1, so the output can be interpreted as estimating the chance of each class being the true class given the pattern.\n"
   ]
  },
  {
   "cell_type": "markdown",
   "metadata": {},
   "source": [
    "## Why Non-linear Activation Functions\n",
    "\n",
    "As shown above, linear or identity activations in the hidden layer are useless. They compose together to produce a another linear function. This is not desirable because we want non-linear activations to compute interesting relationships between neurons."
   ]
  },
  {
   "cell_type": "markdown",
   "metadata": {
    "heading_collapsed": true
   },
   "source": [
    "## Derivatives of Activation Functions\n",
    "\n",
    "We list the derivatives of the activations functions discussed. These are useful because they can be used in the learning of parameters via the backpropogation algorithm."
   ]
  },
  {
   "cell_type": "markdown",
   "metadata": {
    "hidden": true
   },
   "source": [
    "### Sigmoid\n",
    "\n",
    "$\\frac{\\partial}{\\partial z} \\text{sigmoid}(z) = \\text{sigmoid}(z) (1-\\text{sigmoid}(z)) $\n",
    "\n",
    "This is zero for very large or very small values of z, when $|z| >3$, the function is essentially flat - this mean the cost function won't improve by much at all, and the candidate parameters will change very slowly. Below is a plot of the function and its derivative."
   ]
  },
  {
   "cell_type": "code",
   "execution_count": 5,
   "metadata": {
    "hidden": true
   },
   "outputs": [],
   "source": [
    "import numpy as np\n",
    "from scipy.special import expit as sigmoid \n",
    "%matplotlib inline\n",
    "import seaborn as sns"
   ]
  },
  {
   "cell_type": "code",
   "execution_count": 13,
   "metadata": {
    "hidden": true
   },
   "outputs": [
    {
     "data": {
      "text/plain": [
       "<matplotlib.axes._subplots.AxesSubplot at 0x1a2573cb00>"
      ]
     },
     "execution_count": 13,
     "metadata": {},
     "output_type": "execute_result"
    },
    {
     "data": {
      "image/png": "[encoded data removed]",
      "text/plain": [
       "<Figure size 432x288 with 1 Axes>"
      ]
     },
     "metadata": {},
     "output_type": "display_data"
    }
   ],
   "source": [
    "def sigmoid_derivative(x):\n",
    "    sigm = sigmoid(x)\n",
    "    return sigm * (1. - sigm)\n",
    "\n",
    "x = np.linspace(-5, 5, 200)\n",
    "sigm = sigmoid(x)\n",
    "import seaborn as sns; sns.set()\n",
    "sns.lineplot(x, sigm)"
   ]
  },
  {
   "cell_type": "code",
   "execution_count": 14,
   "metadata": {
    "hidden": true
   },
   "outputs": [
    {
     "data": {
      "text/plain": [
       "<matplotlib.axes._subplots.AxesSubplot at 0x1a2570ae10>"
      ]
     },
     "execution_count": 14,
     "metadata": {},
     "output_type": "execute_result"
    },
    {
     "data": {
      "image/png": "[encoded data removed]",
      "text/plain": [
       "<Figure size 432x288 with 1 Axes>"
      ]
     },
     "metadata": {},
     "output_type": "display_data"
    }
   ],
   "source": [
    "sns.lineplot(x, sigm*(1-sigm))"
   ]
  },
  {
   "cell_type": "markdown",
   "metadata": {
    "hidden": true
   },
   "source": [
    "### Tanh\n",
    "\n",
    "$\\frac{\\partial}{\\partial z} \\text{tanh}(z) = 1-[\\text{tanh}(z)]^2) $\n",
    "\n",
    "This is zero for very large or very small values of z, which leads to the same problem when learning parameters, namely that the cost function doesn't improve much and the paramters will also change very slowly when away from 0. Below is a plot."
   ]
  },
  {
   "cell_type": "code",
   "execution_count": 15,
   "metadata": {
    "hidden": true
   },
   "outputs": [
    {
     "data": {
      "text/plain": [
       "<matplotlib.axes._subplots.AxesSubplot at 0x1a25ab6ac8>"
      ]
     },
     "execution_count": 15,
     "metadata": {},
     "output_type": "execute_result"
    },
    {
     "data": {
      "image/png": "[encoded data removed]",
      "text/plain": [
       "<Figure size 432x288 with 1 Axes>"
      ]
     },
     "metadata": {},
     "output_type": "display_data"
    }
   ],
   "source": [
    "tanh_values = np.tanh(x)\n",
    "sns.lineplot(x, tanh_values)"
   ]
  },
  {
   "cell_type": "code",
   "execution_count": 16,
   "metadata": {
    "hidden": true
   },
   "outputs": [
    {
     "data": {
      "text/plain": [
       "<matplotlib.axes._subplots.AxesSubplot at 0x1a25abca20>"
      ]
     },
     "execution_count": 16,
     "metadata": {},
     "output_type": "execute_result"
    },
    {
     "data": {
      "image/png": "[encoded data removed]",
      "text/plain": [
       "<Figure size 432x288 with 1 Axes>"
      ]
     },
     "metadata": {},
     "output_type": "display_data"
    }
   ],
   "source": [
    "sns.lineplot(x, 1 - tanh_values**2)"
   ]
  },
  {
   "cell_type": "markdown",
   "metadata": {
    "hidden": true
   },
   "source": [
    "### RELU\n",
    "\n",
    "$\\frac{\\partial}{\\partial z} \\text{relu}(z) = 1$ if z> 0, or  $0$ otherwise\n"
   ]
  },
  {
   "cell_type": "code",
   "execution_count": 19,
   "metadata": {
    "hidden": true
   },
   "outputs": [
    {
     "data": {
      "text/plain": [
       "<matplotlib.axes._subplots.AxesSubplot at 0x1a24db25c0>"
      ]
     },
     "execution_count": 19,
     "metadata": {},
     "output_type": "execute_result"
    },
    {
     "data": {
      "image/png": "[encoded data removed]",
      "text/plain": [
       "<Figure size 432x288 with 1 Axes>"
      ]
     },
     "metadata": {},
     "output_type": "display_data"
    }
   ],
   "source": [
    "relu_values = np.maximum(0, x)\n",
    "sns.lineplot(x, relu_values)"
   ]
  },
  {
   "cell_type": "code",
   "execution_count": 23,
   "metadata": {
    "hidden": true
   },
   "outputs": [
    {
     "data": {
      "text/plain": [
       "<matplotlib.axes._subplots.AxesSubplot at 0x1a25f7d4e0>"
      ]
     },
     "execution_count": 23,
     "metadata": {},
     "output_type": "execute_result"
    },
    {
     "data": {
      "image/png": "[encoded data removed]",
      "text/plain": [
       "<Figure size 432x288 with 1 Axes>"
      ]
     },
     "metadata": {},
     "output_type": "display_data"
    }
   ],
   "source": [
    "relu_deriv_values = x > 0\n",
    "sns.lineplot(x, relu_deriv_values)"
   ]
  },
  {
   "cell_type": "markdown",
   "metadata": {
    "hidden": true
   },
   "source": [
    "### Leaky RELU\n",
    "\n",
    "$\\frac{\\partial}{\\partial z} \\text{leaky_relu}(z) = 1$ if $z>0$, or  $0.001$ otherwise\n"
   ]
  },
  {
   "cell_type": "code",
   "execution_count": 24,
   "metadata": {
    "hidden": true
   },
   "outputs": [
    {
     "data": {
      "text/plain": [
       "<matplotlib.axes._subplots.AxesSubplot at 0x1a2604ccc0>"
      ]
     },
     "execution_count": 24,
     "metadata": {},
     "output_type": "execute_result"
    },
    {
     "data": {
      "image/png": "[encoded data removed]",
      "text/plain": [
       "<Figure size 432x288 with 1 Axes>"
      ]
     },
     "metadata": {},
     "output_type": "display_data"
    }
   ],
   "source": [
    "leaky_relu_values = np.maximum(0.001, x)\n",
    "sns.lineplot(x, leaky_relu_values)"
   ]
  },
  {
   "cell_type": "code",
   "execution_count": 25,
   "metadata": {
    "hidden": true,
    "scrolled": true
   },
   "outputs": [
    {
     "data": {
      "text/plain": [
       "<matplotlib.axes._subplots.AxesSubplot at 0x1a2610dcf8>"
      ]
     },
     "execution_count": 25,
     "metadata": {},
     "output_type": "execute_result"
    },
    {
     "data": {
      "image/png": "[encoded data removed]",
      "text/plain": [
       "<Figure size 432x288 with 1 Axes>"
      ]
     },
     "metadata": {},
     "output_type": "display_data"
    }
   ],
   "source": [
    "leaky_relu_deriv_values = [0.001 if item <0 else 1 for item in x ]\n",
    "sns.lineplot(x, leaky_relu_deriv_values)"
   ]
  },
  {
   "cell_type": "markdown",
   "metadata": {
    "heading_collapsed": true
   },
   "source": [
    "## Cost Function of Neural Network\n",
    "\n",
    "In our new notation, the cost function $J$ is:\n",
    "\n",
    "$$ J(\\mathbf{W}, \\mathbf{b}) =  \\frac{1}{m} \\sum_e \\text{Loss}(y_e, A^{[L]}_e) $$\n",
    "\n",
    "the averaged loss across all training examples.\n",
    "\n",
    "For a general neural network as above, we no longer have a global optima. Instead, the cost function may posesses multiple local optima ($J$ is non-convex because $a^[L]$ is non-convex - it is non-linear composition of activation functions). However, since the cost function is a composition of smooth well behaved functions, it too is a smooth well behaved function, whose gradient exists.\n",
    "\n",
    "As a consequence, we call still apply the gradient descent algorithm to find local optima. The exact optima depends on the initial conditions.\n",
    "\n",
    "We note that some local optima are not desirable, because they are not particularly minimal and as we will see, can learn parameters that are symmetrical at each layer. These symmetircal parameters have activations are the same and thus the neurons at each layer compute the same input/output values.\n"
   ]
  },
  {
   "cell_type": "markdown",
   "metadata": {},
   "source": [
    "## Gradient Descent for Neural Networks\n",
    "\n",
    "The full derivation of the gradient descent algorithm needs repeated use of the chain rule. By caching intermediate values, it's possible to calculate the gradient of the cost function wrt all parameters of the neural network (all weights and biases across all the layers). \n",
    "\n",
    "Then all that is needed is applying gradient descent over some number of iterations to reduce the cost function and converge to the locally optimal set of parameters.\n",
    "\n",
    "### Gradient of Neural Network wrt Weights and Bias Parameters\n",
    "\n",
    "By repeatedly applying the chain rule we can find the gradient of the neural network wrt the parameters across all layers.\n",
    "\n",
    "As a way to speed up the calculations, we note that the derivative of parameters in layers further back depend on derivatives of parameters up the network layers. This means that we can cache or memoize derivatives in the later layers to help calculate derivatives in the earlier layers. \n",
    "\n",
    "\n",
    "Once the gradient function is known, we can use it to iteratively update the parameters and travel to a local optima of the cost function.\n"
   ]
  },
  {
   "cell_type": "markdown",
   "metadata": {},
   "source": [
    "The gradient of the cost function wrt to the network parameters is needed to run the gradient descent algorithm. That is, we need:\n",
    "\n",
    "$ \\frac{\\partial J}{\\partial b^{[i]}_j}$ \n",
    "\n",
    "and\n",
    "\n",
    "$ \\frac{\\partial J}{\\partial w^{[i]}_j (k)}$\n",
    "\n",
    "for:\n",
    "\n",
    "$i = 0, 1, \\ldots, L$\n",
    "\n",
    "$j = 1, \\ldots , n^{[i]}$\n",
    "\n",
    "$k=1, \\ldots , n^{[i-1]}$\n",
    "\n",
    "These can be evaluated as a compact set of recursive (using the chain rule) vector equations. Let's derive them below:\n",
    "\n",
    "The first expression:\n",
    "\n",
    "$ \\frac{\\partial }{\\partial b^{[i]}_j} J $\n",
    "\n",
    "$= \\frac{1}{m} \\sum_e  \\frac{\\partial }{\\partial b^{[i]}_j} \\text{Loss}(y_e, A^{[L]}_e) $\n",
    "\n",
    "$= \\frac{1}{m} \\sum_e  \\frac{\\partial }{\\partial (A^{[L]}_i)} \\text{Loss}(y_e, A^{[L]}_e)  \\frac{\\partial  A^{[L]}_e}{\\partial b^{[i]}_j} $\n",
    "\n",
    "$= \\frac{1}{m} \\sum_e  \\frac{\\partial }{\\partial (u)} \\text{Loss}(y_e, u)|_{@u =A^{[L]}_e}    * \\frac{\\partial  A^{[L]}_e}{\\partial b^{[i]}_j} $\n",
    "\n",
    "So we need $\\frac{\\partial  A^{[L]}_e}{\\partial b^{[i]}_j}$:\n",
    "\n",
    "$\\frac{\\partial  A^{[L]}_e}{\\partial b^{[i]}_j} =  \\frac{\\partial }{\\partial (u)} G^{[i]}(Z^{[L]}_e)  \\frac{\\partial Z^{[L]}_e}{\\partial b^{[i]}_j } $\n",
    "\n",
    "$=\\frac{\\partial  A^{[L]}_e}{\\partial b^{[i]}_j} =  \\frac{\\partial }{\\partial (u)} G^{[i]}(u)|_{@u = Z^{[L]}_e}  \\frac{\\partial Z^{[L]}_e}{\\partial b^{[i]}_j } $\n",
    "\n",
    "And so we have:\n",
    "\n",
    "\n",
    "$ \\frac{\\partial }{\\partial b^{[i]}_j} J $\n",
    "\n",
    "$= \\frac{1}{m} \\sum_e  \\frac{\\partial }{\\partial (u)} \\text{Loss}(y_e, u)|_{@u =A^{[L]}_e}    * \\frac{\\partial  A^{[L]}_e}{\\partial b^{[i]}_j} $\n",
    "\n",
    "$= \\frac{1}{m} \\sum_e  \\frac{\\partial }{\\partial (u)} \\text{Loss}(y_e, u)|_{@u =A^{[L]}_e} * G^{'[i]}( Z^{[L]}_e)  \\frac{\\partial Z^{[L]}_e}{\\partial b_j^{[i]} }$\n",
    "\n",
    "\n",
    "Using similar expansions, we have:\n",
    "\n",
    "$ \\frac{\\partial }{\\partial w^{[i]}_j (k)} J $\n",
    "\n",
    "$= \\frac{1}{m} \\sum_e  \\frac{\\partial }{\\partial (u)} \\text{Loss}(y_e, u)|_{@u =A^{[L]}_e}    * \\frac{\\partial  A^{[L]}_e}{\\partial w^{[i]}_j (k)}$\n",
    "\n",
    "$= \\frac{1}{m} \\sum_e  \\frac{\\partial }{\\partial (u)} \\text{Loss}(y_e, u)|_{@u =A^{[L]}_e}*G^{'[i]}( Z^{[L]}_e)  \\frac{\\partial Z^{[L]}_e}{\\partial w^{[i]}_j (k)}$\n",
    "\n",
    "\n",
    "So now all we need is:\n",
    "\n",
    "$ \\frac{\\partial Z^{[L]}_e}{\\partial w^{[i]}_j (k)}$\n",
    "\n",
    "and\n",
    "\n",
    "$ \\frac{\\partial Z^{[L]}_e}{\\partial b^{[i]}_j}$\n",
    "\n",
    "\n",
    "We see that:\n",
    "\n",
    "$ \\frac{\\partial Z^{[L]}_e}{\\partial b^{[i]}_j} =  \\frac{\\partial Z^{[L]}_e}{\\partial Z^{[i]}_e }  \\frac{\\partial Z^{[i]}_e}{\\partial w^{[i]}_j (k)}\n",
    "= \\frac{\\partial Z^{[L]}_e}{\\partial Z^{[i]}_e } A_{e,k}^{[i-1]}$\n",
    "\n",
    "$= \\frac{\\partial Z^{[L]}_e}{\\partial w^{[i]}_j (k)} =  \\frac{\\partial Z^{[L]}_e}{\\partial Z^{[i]}_e } \\frac{\\partial Z^{[i]}_e}{\\partial b^{[i]}_j} = \\frac{\\partial Z^{[L]}_e}{\\partial Z^{[i]}_e } \\cdot 1 = \\frac{\\partial Z^{[L]}_e}{\\partial Z^{[i]}_e }$\n",
    "\n",
    "\n",
    "These two quantities can be expressed as recursive vector equations. Note that earlier we derived the recurrence relations on the forward propagation step\n",
    "\n",
    "Starting with $A^{[0]} = x_e$:\n",
    "\n",
    "$$Z_e^{[i]} = W^{[i]} \\cdot A_e^{[i-1]}  + B^{[i]}$$\n",
    "\n",
    "$$A_e^{[i+1]} = G^{[i]}(Z_e^{[i]})$$\n",
    "\n",
    "Let's introduce some notation to make it easier to see the recursions. Define:\n",
    "\n",
    "$$\\delta^{[i]}_j = \\frac{\\partial Z^{[L]}_e}{\\partial Z_{j,e}^{[i]}}$$\n",
    "\n",
    "\n",
    "Using the total derivative for the chain rule and partitioning on  $Z_{k,e}^{[i+1]}$ for all $k$ :\n",
    "\n",
    "$\\sum_k \\frac{\\partial Z^{[L]_e}}{\\partial Z_{k,e}^{[i+1]}}  \\frac{\\partial Z_{k,e}^{[i+1]}}{\\partial Z_{j,e}^{[i]}}$\n",
    "\n",
    "The first factor in the sum is just $\\delta_k^{[i+1]}$ and the second factor's numerator can be expanded as: \n",
    "\n",
    "$ Z^{[i+1]}_{k,e}= W^{[i+1]} \\cdot A_{k,e}^{[i]}  + B^{[i+1]}$\n",
    "$ = W^{[i+1]} \\cdot g^{[i]}_{k}(Z_{k,e}^{[i]})  + B^{[i+1]}$\n",
    "$= \\sum_j {w_j^{[i+1]}}(k)g_{k}^{[i]}(Z_{k,e}^{[i]}) + b_k^{[i+1]}$\n",
    "\n",
    "Differentiating:\n",
    "\n",
    "$\\frac{\\partial Z_{k,e}^{[i+1]}}{\\partial Z_{j,e}^{[i]}} = {w_j^{[i+1]}}(k)g_{k}^{'[i]}(Z_{k,e}^{[j]})$\n",
    "\n",
    "\n",
    "Substituting back into out expression, we have:\n",
    "\n",
    "$\\delta^{[i]}_j = \\sum_k \\frac{\\partial Z_e^{[L]}}{\\partial Z_{k,e}^{[i+1]}}  \\frac{\\partial Z_{k,e}^{[i+1]}}{\\partial Z_{j,e}^{[i]}}$\n",
    "\n",
    "$ = \\sum_k w_j^{[i+1]}(k) g^{'[i+1]}_{k}(Z_{k,e}^{[j]}) \\delta^{[i]}_j$\n",
    "\n",
    "\n",
    "This is a great result, we can use this recurrence relation to now calculate the gradient of cost function wrt to the parameters. \n",
    "\n",
    "We just need to back substitute and solve the weight and bias updates one layer at a time, starting at the final layer and working backwards - at the end we have the complete gradient function. \n",
    "\n",
    "We can cache some of these intemediate values and re-use them in the forward propagation step - which as we saw, is alsoa set of recurrence relations to calculate the estimate at the final value.\n"
   ]
  },
  {
   "cell_type": "markdown",
   "metadata": {},
   "source": [
    "## Random Initialization\n",
    "\n",
    "As discussed earlier in the cost function section, the local optima reached depends completely on the initial conditions, or starting points of the parameters given to the gradient descent algorithm.\n",
    "\n",
    "\n",
    "### Weights\n",
    "In particular if the starting conditions of the weights are any diagonal vector (vector which has all components the same), then the linear combinations and activations will all be the same. As a consequence, the gradient function wrt the weights will be the same. This means that the updates on the \n",
    "\n",
    "So we need to have small random values for our initial weights. They need to be small so that the linear combination $z$, will stay small and keep learning - particularly for the sigmoid and tanh activation functions. \n",
    "\n",
    "### How small (but still random)?\n",
    "How small should they be? A good rule of thumb is to choose random values in the range $[\\frac{-1}{2N},\\frac{1}{2N}]$, where N is the number of weights in the network. This is so the probability that a linear combination has large absolute value (and hence difficult to move around using gradients) is small.\n",
    "\n",
    "### Bias\n",
    "There is no reqirement that the bias parameters are initialized randomly. **Why is this?** I think this is because the weights are randomly assigned so each neuron will compute something different. (This would mean we could set the bias randomly and choose some weights to be constant, however  I'm not sure.)\n",
    "\n",
    "\n"
   ]
  },
  {
   "cell_type": "code",
   "execution_count": null,
   "metadata": {},
   "outputs": [],
   "source": []
  }
 ],
 "metadata": {
  "kernelspec": {
   "display_name": "Python 3",
   "language": "python",
   "name": "python3"
  },
  "language_info": {
   "codemirror_mode": {
    "name": "ipython",
    "version": 3
   },
   "file_extension": ".py",
   "mimetype": "text/x-python",
   "name": "python",
   "nbconvert_exporter": "python",
   "pygments_lexer": "ipython3",
   "version": "3.7.1"
  },
  "toc": {
   "base_numbering": 1,
   "nav_menu": {},
   "number_sections": true,
   "sideBar": true,
   "skip_h1_title": false,
   "title_cell": "Table of Contents",
   "title_sidebar": "Contents",
   "toc_cell": false,
   "toc_position": {},
   "toc_section_display": true,
   "toc_window_display": true
  }
 },
 "nbformat": 4,
 "nbformat_minor": 2
}
