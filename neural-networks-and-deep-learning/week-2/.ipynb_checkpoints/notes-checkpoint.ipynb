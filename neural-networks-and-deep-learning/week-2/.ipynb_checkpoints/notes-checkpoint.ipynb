{
 "cells": [
  {
   "cell_type": "markdown",
   "metadata": {},
   "source": [
    "# Week2 Notes\n",
    "\n",
    "It's possible to cast a logistic regression as a simple neural network.  This is what we do here, along with introducting the backward pass and forward pass as part of the computation graph. Finally, we introduce a vectorized implementation and demonstrate its improved efficiency.\n"
   ]
  },
  {
   "cell_type": "markdown",
   "metadata": {},
   "source": [
    "## Logistic Regression as a Neural Network\n",
    "Casting logistic regression as a neural network.\n",
    "\n",
    "### Binary Classification\n",
    "\n",
    "\n",
    "### Logistic Regression\n",
    "### Logistic Regression Cost Function\n",
    "### Gradient Descent\n",
    "### Derivatives\n",
    "### More Derivatives Examples\n",
    "### Computation Graph\n",
    "### Derivatives with a Computation Graph\n",
    "### Gradient Descent on `m` examples\n",
    "\n",
    "## Python and Vectorization\n",
    "### Vectorization\n",
    "### More Vectorization Examples\n",
    "### Vectorizing Logistic Regression\n",
    "### Vectorizing Logistic Regressions Gradient Output\n",
    "### Broadcasting in Numpy\n",
    "### A Note on Numpy Vectors\n",
    "### Explanation of Logistic Regression Cost Function\n"
   ]
  },
  {
   "cell_type": "code",
   "execution_count": null,
   "metadata": {},
   "outputs": [],
   "source": []
  }
 ],
 "metadata": {
  "kernelspec": {
   "display_name": "Python 3",
   "language": "python",
   "name": "python3"
  },
  "language_info": {
   "codemirror_mode": {
    "name": "ipython",
    "version": 3
   },
   "file_extension": ".py",
   "mimetype": "text/x-python",
   "name": "python",
   "nbconvert_exporter": "python",
   "pygments_lexer": "ipython3",
   "version": "3.7.1"
  }
 },
 "nbformat": 4,
 "nbformat_minor": 2
}
