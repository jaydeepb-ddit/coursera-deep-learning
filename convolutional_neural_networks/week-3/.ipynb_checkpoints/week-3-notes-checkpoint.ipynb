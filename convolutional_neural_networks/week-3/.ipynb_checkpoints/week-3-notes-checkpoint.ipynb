{
 "cells": [
  {
   "cell_type": "markdown",
   "metadata": {},
   "source": [
    "# Week 3 Notes\n",
    "\n",
    "## Object Localization\n",
    "\n",
    "## Landmark Detection\n",
    "\n",
    "## Convolutional Implementation Sliding Windows\n",
    "\n",
    "## Object Detection\n",
    "\n",
    "## Intersection Over Union\n",
    "\n",
    "## Anchor Boxes\n",
    "\n",
    "## NonMax Supression\n",
    "\n",
    "## YOLO Algorithm\n",
    "\n",
    "## Region Proposals\n",
    "\n"
   ]
  }
 ],
 "metadata": {
  "kernelspec": {
   "display_name": "Python 3",
   "language": "python",
   "name": "python3"
  },
  "language_info": {
   "codemirror_mode": {
    "name": "ipython",
    "version": 3
   },
   "file_extension": ".py",
   "mimetype": "text/x-python",
   "name": "python",
   "nbconvert_exporter": "python",
   "pygments_lexer": "ipython3",
   "version": "3.7.1"
  },
  "toc": {
   "base_numbering": 1,
   "nav_menu": {},
   "number_sections": true,
   "sideBar": true,
   "skip_h1_title": false,
   "title_cell": "Table of Contents",
   "title_sidebar": "Contents",
   "toc_cell": false,
   "toc_position": {},
   "toc_section_display": true,
   "toc_window_display": true
  }
 },
 "nbformat": 4,
 "nbformat_minor": 2
}
