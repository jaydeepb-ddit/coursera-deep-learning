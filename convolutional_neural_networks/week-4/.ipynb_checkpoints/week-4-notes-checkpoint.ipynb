{
 "cells": [
  {
   "cell_type": "markdown",
   "metadata": {},
   "source": [
    "# Week 4 Notes\n",
    "\n",
    "## What Is Face Recognition\n",
    "\n",
    "## One Shot Learning\n",
    "\n",
    "## Siamese Network\n",
    "\n",
    "## Triplet Loss\n",
    "\n",
    "## Face Verification\n",
    "\n",
    "## What Is Neural Style Transfer\n",
    "\n",
    "## What are Deep CNs Learning\n",
    "\n",
    "## Cost Function\n",
    "\n",
    "## Content Cost Function\n",
    "\n",
    "## Style Cost Function\n",
    "\n",
    "## 1D and 3D Generalizations\n",
    "\n"
   ]
  },
  {
   "cell_type": "code",
   "execution_count": null,
   "metadata": {},
   "outputs": [],
   "source": []
  }
 ],
 "metadata": {
  "kernelspec": {
   "display_name": "Python 3",
   "language": "python",
   "name": "python3"
  },
  "language_info": {
   "codemirror_mode": {
    "name": "ipython",
    "version": 3
   },
   "file_extension": ".py",
   "mimetype": "text/x-python",
   "name": "python",
   "nbconvert_exporter": "python",
   "pygments_lexer": "ipython3",
   "version": "3.7.1"
  },
  "toc": {
   "base_numbering": 1,
   "nav_menu": {},
   "number_sections": true,
   "sideBar": true,
   "skip_h1_title": false,
   "title_cell": "Table of Contents",
   "title_sidebar": "Contents",
   "toc_cell": false,
   "toc_position": {},
   "toc_section_display": true,
   "toc_window_display": true
  }
 },
 "nbformat": 4,
 "nbformat_minor": 2
}
