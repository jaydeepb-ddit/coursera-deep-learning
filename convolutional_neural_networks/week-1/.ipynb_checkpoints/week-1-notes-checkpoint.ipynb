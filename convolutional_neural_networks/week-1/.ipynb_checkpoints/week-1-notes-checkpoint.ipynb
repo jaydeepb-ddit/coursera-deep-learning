{
 "cells": [
  {
   "cell_type": "markdown",
   "metadata": {},
   "source": [
    "# Week 1 Notes"
   ]
  },
  {
   "cell_type": "markdown",
   "metadata": {},
   "source": [
    "## Computer Vision"
   ]
  },
  {
   "cell_type": "markdown",
   "metadata": {},
   "source": [
    "### Introduction\n",
    "\n",
    "Many applications in computer vision are now solved by deep learning. There are two benefits from studying these problems and solutions:\n",
    "\n",
    "* There is still scope for creating products and applications using deep learning inspired computer vision techniques.\n",
    "\n",
    "*  The computer vision community has been very inventive in solving problems using deep learning. Their approaches can provide insight when working on other problems such as speech or text.\n",
    "\n",
    "Computer vision is concerned mostly with inputs that are image or video data."
   ]
  },
  {
   "cell_type": "markdown",
   "metadata": {},
   "source": [
    "### Examples of CV Problems"
   ]
  },
  {
   "cell_type": "markdown",
   "metadata": {},
   "source": [
    "#### Image Classification\n",
    "\n",
    "Classifying an object as one of several classes (one of which may be the background or unassigned class). The simplest case is a binary classifier - the canonical teaching example being a cat classifier."
   ]
  },
  {
   "cell_type": "markdown",
   "metadata": {},
   "source": [
    "#### Object Detection\n",
    "\n",
    "object detection is the compound task of finding an object (bounding box or scene pixel segmentation) and then classifying it from an image."
   ]
  },
  {
   "cell_type": "markdown",
   "metadata": {},
   "source": [
    "#### Neural Style Transfer\n",
    "\n",
    "Neural style transfer is taking two images - from one of them the neural style is extracted, the other is then redone using the neural style to create a new image; a combination of the two."
   ]
  },
  {
   "cell_type": "markdown",
   "metadata": {},
   "source": [
    "#### Face Recognition\n",
    "The face recognition task is to locate a face in an image and then check if it matches one of the faces in a register or else return an unmatched classification if it is not matched. The particular desired properties of such a classifier are specific to the details of the application. For example face recognition to access a bank account needs a very high precision, but low recall is acceptable - because giving the wrong person access is not permitted.\n"
   ]
  },
  {
   "cell_type": "markdown",
   "metadata": {},
   "source": [
    "### Large Inputs: Deep Learning on High Resolution Images"
   ]
  },
  {
   "cell_type": "markdown",
   "metadata": {},
   "source": [
    "#### Scaling Problem with Large Inputs\n",
    "\n",
    "When the inputs run into the millions, then training a fully connected neural network becomes very difficult, because the number of training parameters can run into the billions of hundreds of billions. Even with current compute, it will just take too long and too much compute to train a FCNN.\n",
    "\n",
    "Image data at high resolution will easily have millions of pixels of input - hence a different approach is needed."
   ]
  },
  {
   "cell_type": "markdown",
   "metadata": {},
   "source": [
    "#### Convolution Operation Mitigates Scaling on Large Inputs\n",
    "\n",
    "The convolution operation effectively shares parameters locally across inputs, thus needing fewer parameters and less compute to be learned.\n",
    "\n",
    "Using the convolution operator it becomes possible to learn levels of features, be robust to rotations and still lead to good outputs."
   ]
  },
  {
   "cell_type": "code",
   "execution_count": null,
   "metadata": {},
   "outputs": [],
   "source": []
  }
 ],
 "metadata": {
  "kernelspec": {
   "display_name": "Python 3",
   "language": "python",
   "name": "python3"
  },
  "language_info": {
   "codemirror_mode": {
    "name": "ipython",
    "version": 3
   },
   "file_extension": ".py",
   "mimetype": "text/x-python",
   "name": "python",
   "nbconvert_exporter": "python",
   "pygments_lexer": "ipython3",
   "version": "3.7.1"
  },
  "toc": {
   "base_numbering": 1,
   "nav_menu": {},
   "number_sections": true,
   "sideBar": true,
   "skip_h1_title": false,
   "title_cell": "Table of Contents",
   "title_sidebar": "Contents",
   "toc_cell": false,
   "toc_position": {},
   "toc_section_display": true,
   "toc_window_display": true
  }
 },
 "nbformat": 4,
 "nbformat_minor": 2
}
