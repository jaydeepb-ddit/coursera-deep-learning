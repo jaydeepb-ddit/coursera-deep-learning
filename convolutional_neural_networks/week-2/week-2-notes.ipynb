{
 "cells": [
  {
   "cell_type": "markdown",
   "metadata": {},
   "source": [
    "# Week 2 Notes"
   ]
  },
  {
   "cell_type": "markdown",
   "metadata": {},
   "source": [
    "## Why Look At Case Studies\n",
    "\n",
    "Case studies of famous networks are useful because there has usually been extensive research and implementations of them in the open source community. \n",
    "\n",
    "Engineers can use these well known network architectures with their implementations or finesse/modify trained versions to fit their problems and datasets.\n",
    "\n",
    "Many days/months of training is often needed to get the weight parameters of these networks. By modifying (by transfer learning for example) these pre-trained networks fast progress can be made.\n",
    "\n",
    "Also, there is a level of trust in their implementations as many researchers will be investigated the implementations and performance."
   ]
  },
  {
   "cell_type": "markdown",
   "metadata": {},
   "source": [
    "## Classic Network\n",
    "\n",
    "There are three classic networks that have had significant impact on the computer vision community. These are:\n",
    "\n",
    "1. LeNet-5\n",
    "\n",
    "2. AlexNet\n",
    "\n",
    "3. VGG-16\n",
    "\n",
    "We will look at their architecture and link to open source implementations.\n",
    "\n",
    "### LeNet-5\n",
    "\n",
    "\n",
    "\n",
    "### AlexNet\n",
    "\n",
    "\n",
    "\n",
    "### VGG-15\n",
    "\n",
    "\n"
   ]
  },
  {
   "cell_type": "markdown",
   "metadata": {},
   "source": [
    "## ResNets"
   ]
  },
  {
   "cell_type": "markdown",
   "metadata": {},
   "source": [
    "## Why ResNets Work"
   ]
  },
  {
   "cell_type": "markdown",
   "metadata": {},
   "source": [
    "## Network In Network"
   ]
  },
  {
   "cell_type": "markdown",
   "metadata": {},
   "source": [
    "## Inception Network Motivation\n",
    "\n",
    "## Inception Network\n",
    "\n",
    "## Using Open Source Implementation\n",
    "\n",
    "## Transfer Learning\n",
    "\n",
    "## Data Augmentation\n",
    "\n",
    "## State Of Computer Vision"
   ]
  },
  {
   "cell_type": "code",
   "execution_count": null,
   "metadata": {},
   "outputs": [],
   "source": []
  }
 ],
 "metadata": {
  "kernelspec": {
   "display_name": "Python 3",
   "language": "python",
   "name": "python3"
  },
  "language_info": {
   "codemirror_mode": {
    "name": "ipython",
    "version": 3
   },
   "file_extension": ".py",
   "mimetype": "text/x-python",
   "name": "python",
   "nbconvert_exporter": "python",
   "pygments_lexer": "ipython3",
   "version": "3.7.1"
  },
  "toc": {
   "base_numbering": 1,
   "nav_menu": {},
   "number_sections": true,
   "sideBar": true,
   "skip_h1_title": false,
   "title_cell": "Table of Contents",
   "title_sidebar": "Contents",
   "toc_cell": false,
   "toc_position": {},
   "toc_section_display": true,
   "toc_window_display": true
  }
 },
 "nbformat": 4,
 "nbformat_minor": 2
}
