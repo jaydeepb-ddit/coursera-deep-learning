{
 "cells": [
  {
   "cell_type": "markdown",
   "metadata": {},
   "source": [
    "# Week 1 Notes"
   ]
  },
  {
   "cell_type": "markdown",
   "metadata": {},
   "source": [
    "## Improving Model Performance\n",
    "\n",
    "## Orthogonalization\n",
    "\n",
    "## Single Number Evaluation Metric\n",
    "\n",
    "## Satisficing And Optimizing Metrics\n",
    "\n",
    "## Train/Dev/Test Distributions\n",
    "\n",
    "## Proportions Of Train/Dev/Test Sets\n",
    "\n",
    "## When To Change Dev/Test Sets\n",
    "\n",
    "## Why Human Level Performance\n",
    "\n",
    "## Avoidable Bias\n",
    "\n",
    "## Understanding Human Level Performance\n",
    "\n",
    "## Surpassing Human Level Performance\n",
    "\n",
    "## Improving Model Performance\n",
    "\n",
    "## Carrying Out Error Analysis\n",
    "\n",
    "## Cleaning Up Incorrectly Labeled Data\n",
    "\n",
    "## Build First System Quickly - Then Iterate\n",
    "\n",
    "## Training And Testing On Different Distributions\n",
    "\n",
    "## Bias And Variance With Mismatched Data\n",
    "\n",
    "## Addressing Data Mismatch\n",
    "\n",
    "## Transfer Learning\n",
    "\n",
    "## Multitask Learning\n",
    "\n",
    "## What is End-To-End Deep Learning\n",
    "\n",
    "## Whether To Use End-To-End Deep Learning\n"
   ]
  },
  {
   "cell_type": "code",
   "execution_count": null,
   "metadata": {},
   "outputs": [],
   "source": []
  }
 ],
 "metadata": {
  "kernelspec": {
   "display_name": "Python 3",
   "language": "python",
   "name": "python3"
  },
  "language_info": {
   "codemirror_mode": {
    "name": "ipython",
    "version": 3
   },
   "file_extension": ".py",
   "mimetype": "text/x-python",
   "name": "python",
   "nbconvert_exporter": "python",
   "pygments_lexer": "ipython3",
   "version": "3.7.1"
  },
  "toc": {
   "base_numbering": 1,
   "nav_menu": {},
   "number_sections": true,
   "sideBar": true,
   "skip_h1_title": false,
   "title_cell": "Table of Contents",
   "title_sidebar": "Contents",
   "toc_cell": false,
   "toc_position": {},
   "toc_section_display": true,
   "toc_window_display": true
  }
 },
 "nbformat": 4,
 "nbformat_minor": 2
}
