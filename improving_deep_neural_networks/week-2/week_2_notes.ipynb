{
 "cells": [
  {
   "cell_type": "markdown",
   "metadata": {},
   "source": [
    "# Week 2 Notes"
   ]
  },
  {
   "cell_type": "markdown",
   "metadata": {},
   "source": [
    "## Mini Batch Gradient Descent\n",
    "\n",
    "The gradient descent algorithm is awesome. It's relatively simple, although slower than some other more involve algorithms for certain classes of problems. However, for deep learning the main bottleneck is that there is so much data that storing and passing over it in memory is very slow. To be clear the cost function we have looked at so far, is computationally expensive to compute derivatives for.\n"
   ]
  },
  {
   "cell_type": "markdown",
   "metadata": {},
   "source": [
    "### Description\n",
    "\n",
    "A better way, and for which so much GPU/FPGA technology has been built is to cycle through mini-batches of data that can be cached and that converge to a very similar point as the original cost function optima. Using some nice properties of the cost function - namely it is smooth and Lipschutz continuous, we can take mini-batches of the data and pass each through the cost function and gradient parameter update. Once we go through all the data (called an epoch) and we repeat this for many iterations, we can get very close to the local optima.\n",
    "\n",
    "It is usual to take random equal sized splits of the data (but this would be implied by individual examples not having a temporal component, so randomizing is not needed).\n",
    "\n",
    "Let's set this out mathematically with notation:\n",
    "\n",
    "We have input $X$ with `X.shape = (n, m)` with `m` examples each with `n` features. We have output vector $Y$ with `Y.shape=(1, m)`. \n",
    "\n",
    "If $m$ is so large that it's a problem to keep in memory and process all examples for the cost function of gradient descent, then we will resort to mini batch gradient descent.\n",
    "\n",
    "So let's say we decided to have k minibatches. Then each mini batch is of size m/k = q.  \n",
    "\n",
    "#### Notation Recap\n",
    "\n",
    "$A^{(i)[l]\\{t\\}}  $ is notation for the $i^{th}$ example in the $l^{th}$ layer of the $t^{th}$ mini batch. The parentheses $()$ are used for the example index; brackets $[]$ are for the layer number; braces $\\{\\}$ are for the mini batch index. \n",
    "\n",
    "So we work as follows.\n",
    "\n",
    "Mark k mini batches, each of size q, $(X^{\\{1\\}}, Y^{\\{1\\}}), \\ldots (X^{\\{k\\}}, Y^{\\{k\\}})$  \n",
    "\n",
    "**dimensional check** $X^{\\{i\\}}$.shape$ = (n, q)$ and $Y^{\\{i\\}}$.shape$ = (q, 1)$\n",
    "\n",
    "now the training algorithm runs through these batches. We show the code below:"
   ]
  },
  {
   "cell_type": "code",
   "execution_count": 2,
   "metadata": {},
   "outputs": [],
   "source": [
    "def model(X, Y, num_mini_batches, num_iterations):\n",
    "    n, m = X.shape\n",
    "    q = m/num_mini_batches\n",
    "    parameters = initialize_params()\n",
    "    for i in range(num_iterations):\n",
    "        for t in range(q):\n",
    "            Y_hat, cache = model_forward_prop(parameters) # cache A, W,b which can be reused\n",
    "            grad = model_backward_prop(parameters, cache)\n",
    "            # parameter update via gradient descent\n",
    "            parameters = parameters - learning_rate * grad"
   ]
  },
  {
   "cell_type": "markdown",
   "metadata": {},
   "source": [
    "## Understanding Mini Batch Gradient Descent"
   ]
  },
  {
   "cell_type": "markdown",
   "metadata": {},
   "source": [
    "### Plotting:  Cost function vs Mini batch iteration\n",
    "\n",
    "The cost function no longer declines as we loop through the mini batches. This is since at each iteration there is a different mini batch from the one before. So we will see oscillating but generally declining cost functions as random mini batches could be harder or easier to split.\n",
    "\n",
    "However, if we ran many epochs and compared the value of the cost function for the same mini batch in different epochs, we would see the same monotonically declining behaviour.\n"
   ]
  },
  {
   "cell_type": "markdown",
   "metadata": {},
   "source": [
    "### Special Case: Stochastic Gradient Descent \n",
    "\n",
    "If the number of batches is the same as the number of examples (k=m, q=1), then we have stochastic gradient descent. This works, but will tend to meander a lot as each example can push in one direction or another, but on average over many examples will tend to be near the local optima.\n"
   ]
  },
  {
   "cell_type": "markdown",
   "metadata": {},
   "source": [
    "### Special Case: Batch Gradient Descent \n",
    "If the number of batches is 1 (k=1, q=m), then we have the well known batch gradient descent. All data is processed in one go, but then the algorithm can take longer.\n"
   ]
  },
  {
   "cell_type": "markdown",
   "metadata": {},
   "source": [
    "### Choosing Mini Batch Size\n",
    "\n",
    "A good rule of thumb is to choose a mini batch size that converges without too much meandering, but keeps data in the cache for fast proces\n",
    "sing. Maybe 254, 512 or maybe 1024 examples per batch could be good, depending on the example and number and nature of features. The powers of two are suggested to keep the data in the higher level caches of the CPU. It is important to check that the mini batch can fit in the CPU/GPU - otherwise as soon as this is not the case, performance will fall of a cliff.\n"
   ]
  },
  {
   "cell_type": "markdown",
   "metadata": {},
   "source": [
    "## Exponentially Weighted Averages\n",
    "\n",
    "In order to grasp three very popular optimization variations of mini batch gradient descent, namely:\n",
    "\n",
    "- Momentum\n",
    "- RMSProp\n",
    "- Adam\n",
    "\n",
    "We need to have a good understanding of exponentially weighted averages. The next few sections focus on this topic."
   ]
  },
  {
   "cell_type": "markdown",
   "metadata": {},
   "source": [
    "### Equation for Exponentially Weighted Moving Average\n",
    "\n",
    "We start with a series $\\theta_{t-1}$ and produce another series $V_t$ which is a smoothed moving average version of $v_t$\n",
    "\n",
    "The equation for exponentially weighted moving average is:\n",
    "\n",
    "$v_t = \\beta * V_{t-1} + (1 - \\beta) * \\theta_{t} $\n",
    "\n",
    "Usually $-1 < \\beta < 1$ for stability.\n",
    "\n",
    "We need an initial condition, one simple choice is $v_0 = 0$ - we will see that it has problems later.\n",
    "\n",
    "One way of understanding the exponentially weighted moving average is that (without explanation) is:\n",
    "\n",
    "$ \\frac{1}{1-\\beta}$ day/period average.\n",
    "\n",
    "So then for example:\n",
    "\n",
    "- $\\beta =  0.5$ implies 2 period moving average\n",
    "- $\\beta =  0.25$ implies 1.3 period moving average- \n",
    "- $\\beta =  0.9$ implies 10 period moving average\n",
    "- $\\beta =  0.3$ implies 1.5 period moving average\n",
    "- $\\beta =  0.99$ implies 100 period moving average"
   ]
  },
  {
   "cell_type": "code",
   "execution_count": 25,
   "metadata": {},
   "outputs": [],
   "source": [
    "def exp_moving_average(series, beta = 0.5, initial_cond = 0):\n",
    "    res = []\n",
    "    prev = initial_cond\n",
    "    for i in range(len(series)):\n",
    "        r = beta * series + (1 - beta)*series[i] \n",
    "        res.append(r)\n",
    "        prev = r\n",
    "    return res\n"
   ]
  },
  {
   "cell_type": "code",
   "execution_count": 26,
   "metadata": {},
   "outputs": [
    {
     "data": {
      "text/html": [
       "<div>\n",
       "<style scoped>\n",
       "    .dataframe tbody tr th:only-of-type {\n",
       "        vertical-align: middle;\n",
       "    }\n",
       "\n",
       "    .dataframe tbody tr th {\n",
       "        vertical-align: top;\n",
       "    }\n",
       "\n",
       "    .dataframe thead th {\n",
       "        text-align: right;\n",
       "    }\n",
       "</style>\n",
       "<table border=\"1\" class=\"dataframe\">\n",
       "  <thead>\n",
       "    <tr style=\"text-align: right;\">\n",
       "      <th></th>\n",
       "      <th>Month</th>\n",
       "      <th>London Mean Roadside:Nitric Oxide (ug/m3)</th>\n",
       "      <th>London Mean Roadside:Nitrogen Dioxide (ug/m3)</th>\n",
       "      <th>London Mean Roadside:Oxides of Nitrogen (ug/m3)</th>\n",
       "      <th>London Mean Roadside:Ozone (ug/m3)</th>\n",
       "      <th>London Mean Roadside:PM10 Particulate (ug/m3)</th>\n",
       "      <th>London Mean Roadside:PM2.5 Particulate (ug/m3)</th>\n",
       "      <th>London Mean Roadside:Sulphur Dioxide (ug/m3)</th>\n",
       "      <th>London Mean Background:Nitric Oxide (ug/m3)</th>\n",
       "      <th>London Mean Background:Nitrogen Dioxide (ug/m3)</th>\n",
       "      <th>London Mean Background:Oxides of Nitrogen (ug/m3)</th>\n",
       "      <th>London Mean Background:Ozone (ug/m3)</th>\n",
       "      <th>London Mean Background:PM10 Particulate (ug/m3)</th>\n",
       "      <th>London Mean Background:PM2.5 Particulate (ug/m3)</th>\n",
       "      <th>London Mean Background:Sulphur Dioxide (ug/m3)</th>\n",
       "    </tr>\n",
       "  </thead>\n",
       "  <tbody>\n",
       "    <tr>\n",
       "      <th>0</th>\n",
       "      <td>Jan-08</td>\n",
       "      <td>NaN</td>\n",
       "      <td>55.5</td>\n",
       "      <td>NaN</td>\n",
       "      <td>29.5</td>\n",
       "      <td>25.0</td>\n",
       "      <td>14.7</td>\n",
       "      <td>4.2</td>\n",
       "      <td>NaN</td>\n",
       "      <td>42.3</td>\n",
       "      <td>NaN</td>\n",
       "      <td>36.9</td>\n",
       "      <td>18.8</td>\n",
       "      <td>.</td>\n",
       "      <td>3.6</td>\n",
       "    </tr>\n",
       "    <tr>\n",
       "      <th>1</th>\n",
       "      <td>Feb-08</td>\n",
       "      <td>NaN</td>\n",
       "      <td>75.9</td>\n",
       "      <td>NaN</td>\n",
       "      <td>20.3</td>\n",
       "      <td>39.5</td>\n",
       "      <td>28.8</td>\n",
       "      <td>7.6</td>\n",
       "      <td>NaN</td>\n",
       "      <td>60.2</td>\n",
       "      <td>NaN</td>\n",
       "      <td>26.4</td>\n",
       "      <td>31.9</td>\n",
       "      <td>.</td>\n",
       "      <td>6.7</td>\n",
       "    </tr>\n",
       "    <tr>\n",
       "      <th>2</th>\n",
       "      <td>Mar-08</td>\n",
       "      <td>NaN</td>\n",
       "      <td>55.6</td>\n",
       "      <td>NaN</td>\n",
       "      <td>40.1</td>\n",
       "      <td>21.6</td>\n",
       "      <td>12.3</td>\n",
       "      <td>3.9</td>\n",
       "      <td>NaN</td>\n",
       "      <td>39.8</td>\n",
       "      <td>NaN</td>\n",
       "      <td>50.2</td>\n",
       "      <td>15.5</td>\n",
       "      <td>.</td>\n",
       "      <td>2.3</td>\n",
       "    </tr>\n",
       "    <tr>\n",
       "      <th>3</th>\n",
       "      <td>Apr-08</td>\n",
       "      <td>NaN</td>\n",
       "      <td>61.8</td>\n",
       "      <td>NaN</td>\n",
       "      <td>37.9</td>\n",
       "      <td>28.7</td>\n",
       "      <td>20.5</td>\n",
       "      <td>4.5</td>\n",
       "      <td>NaN</td>\n",
       "      <td>44.0</td>\n",
       "      <td>NaN</td>\n",
       "      <td>50.1</td>\n",
       "      <td>21.7</td>\n",
       "      <td>.</td>\n",
       "      <td>3.2</td>\n",
       "    </tr>\n",
       "    <tr>\n",
       "      <th>4</th>\n",
       "      <td>May-08</td>\n",
       "      <td>NaN</td>\n",
       "      <td>62.9</td>\n",
       "      <td>NaN</td>\n",
       "      <td>46.3</td>\n",
       "      <td>34.6</td>\n",
       "      <td>27.5</td>\n",
       "      <td>4.6</td>\n",
       "      <td>NaN</td>\n",
       "      <td>44.1</td>\n",
       "      <td>NaN</td>\n",
       "      <td>60.5</td>\n",
       "      <td>29.5</td>\n",
       "      <td>16.6</td>\n",
       "      <td>4.3</td>\n",
       "    </tr>\n",
       "  </tbody>\n",
       "</table>\n",
       "</div>"
      ],
      "text/plain": [
       "    Month  London Mean Roadside:Nitric Oxide (ug/m3)  \\\n",
       "0  Jan-08                                        NaN   \n",
       "1  Feb-08                                        NaN   \n",
       "2  Mar-08                                        NaN   \n",
       "3  Apr-08                                        NaN   \n",
       "4  May-08                                        NaN   \n",
       "\n",
       "   London Mean Roadside:Nitrogen Dioxide (ug/m3)  \\\n",
       "0                                           55.5   \n",
       "1                                           75.9   \n",
       "2                                           55.6   \n",
       "3                                           61.8   \n",
       "4                                           62.9   \n",
       "\n",
       "   London Mean Roadside:Oxides of Nitrogen (ug/m3)  \\\n",
       "0                                              NaN   \n",
       "1                                              NaN   \n",
       "2                                              NaN   \n",
       "3                                              NaN   \n",
       "4                                              NaN   \n",
       "\n",
       "   London Mean Roadside:Ozone (ug/m3)  \\\n",
       "0                                29.5   \n",
       "1                                20.3   \n",
       "2                                40.1   \n",
       "3                                37.9   \n",
       "4                                46.3   \n",
       "\n",
       "   London Mean Roadside:PM10 Particulate (ug/m3)  \\\n",
       "0                                           25.0   \n",
       "1                                           39.5   \n",
       "2                                           21.6   \n",
       "3                                           28.7   \n",
       "4                                           34.6   \n",
       "\n",
       "   London Mean Roadside:PM2.5 Particulate (ug/m3)  \\\n",
       "0                                            14.7   \n",
       "1                                            28.8   \n",
       "2                                            12.3   \n",
       "3                                            20.5   \n",
       "4                                            27.5   \n",
       "\n",
       "   London Mean Roadside:Sulphur Dioxide (ug/m3)  \\\n",
       "0                                           4.2   \n",
       "1                                           7.6   \n",
       "2                                           3.9   \n",
       "3                                           4.5   \n",
       "4                                           4.6   \n",
       "\n",
       "   London Mean Background:Nitric Oxide (ug/m3)  \\\n",
       "0                                          NaN   \n",
       "1                                          NaN   \n",
       "2                                          NaN   \n",
       "3                                          NaN   \n",
       "4                                          NaN   \n",
       "\n",
       "   London Mean Background:Nitrogen Dioxide (ug/m3)  \\\n",
       "0                                             42.3   \n",
       "1                                             60.2   \n",
       "2                                             39.8   \n",
       "3                                             44.0   \n",
       "4                                             44.1   \n",
       "\n",
       "   London Mean Background:Oxides of Nitrogen (ug/m3)  \\\n",
       "0                                                NaN   \n",
       "1                                                NaN   \n",
       "2                                                NaN   \n",
       "3                                                NaN   \n",
       "4                                                NaN   \n",
       "\n",
       "   London Mean Background:Ozone (ug/m3)  \\\n",
       "0                                  36.9   \n",
       "1                                  26.4   \n",
       "2                                  50.2   \n",
       "3                                  50.1   \n",
       "4                                  60.5   \n",
       "\n",
       "   London Mean Background:PM10 Particulate (ug/m3)  \\\n",
       "0                                             18.8   \n",
       "1                                             31.9   \n",
       "2                                             15.5   \n",
       "3                                             21.7   \n",
       "4                                             29.5   \n",
       "\n",
       "  London Mean Background:PM2.5 Particulate (ug/m3)  \\\n",
       "0                                                .   \n",
       "1                                                .   \n",
       "2                                                .   \n",
       "3                                                .   \n",
       "4                                             16.6   \n",
       "\n",
       "   London Mean Background:Sulphur Dioxide (ug/m3)  \n",
       "0                                             3.6  \n",
       "1                                             6.7  \n",
       "2                                             2.3  \n",
       "3                                             3.2  \n",
       "4                                             4.3  "
      ]
     },
     "execution_count": 26,
     "metadata": {},
     "output_type": "execute_result"
    }
   ],
   "source": [
    "import pandas as pd\n",
    "london_weather = pd.read_csv('https://data.london.gov.uk/download/london-average-air-quality-levels/1d9847eb-56ac-4168-9e74-93609fcee134/air-quality-london-monthly-averages.csv')\n",
    "london_weather.head()"
   ]
  },
  {
   "cell_type": "code",
   "execution_count": 34,
   "metadata": {},
   "outputs": [
    {
     "data": {
      "text/plain": [
       "<matplotlib.axes._subplots.AxesSubplot at 0x10ec3f208>"
      ]
     },
     "execution_count": 34,
     "metadata": {},
     "output_type": "execute_result"
    },
    {
     "data": {
      "image/png": "[encoded data removed]",
      "text/plain": [
       "<Figure size 432x288 with 1 Axes>"
      ]
     },
     "metadata": {
      "needs_background": "light"
     },
     "output_type": "display_data"
    }
   ],
   "source": [
    "nitrogen_level  = london_weather.iloc[ : , 2]\n",
    "import matplotlib.pyplot as plt\n",
    "%matplotlib inline\n",
    "nitrogen_level.plot(kind='line')\n",
    "moving_average = exp_moving_average(nitrogen_level, 0.3)\n",
    "pd.Series(moving_average[0]).plot(kind='line')"
   ]
  },
  {
   "cell_type": "markdown",
   "metadata": {
    "heading_collapsed": true
   },
   "source": [
    "## Understanding Exponentially Weighted Averages\n",
    "\n"
   ]
  },
  {
   "cell_type": "markdown",
   "metadata": {},
   "source": [
    "## Bias Correction In Exponentially Weighted Averages"
   ]
  },
  {
   "cell_type": "markdown",
   "metadata": {},
   "source": [
    "## Gradient Descent With Momentum"
   ]
  },
  {
   "cell_type": "markdown",
   "metadata": {},
   "source": [
    "## RMSProp"
   ]
  },
  {
   "cell_type": "markdown",
   "metadata": {},
   "source": [
    "## Adam Optimizer"
   ]
  },
  {
   "cell_type": "markdown",
   "metadata": {},
   "source": [
    "## Learning Rate Decay"
   ]
  },
  {
   "cell_type": "markdown",
   "metadata": {},
   "source": [
    "## The Problem of Local Optima"
   ]
  }
 ],
 "metadata": {
  "kernelspec": {
   "display_name": "Python 3",
   "language": "python",
   "name": "python3"
  },
  "language_info": {
   "codemirror_mode": {
    "name": "ipython",
    "version": 3
   },
   "file_extension": ".py",
   "mimetype": "text/x-python",
   "name": "python",
   "nbconvert_exporter": "python",
   "pygments_lexer": "ipython3",
   "version": "3.7.1"
  },
  "toc": {
   "base_numbering": 1,
   "nav_menu": {},
   "number_sections": true,
   "sideBar": true,
   "skip_h1_title": false,
   "title_cell": "Table of Contents",
   "title_sidebar": "Contents",
   "toc_cell": false,
   "toc_position": {},
   "toc_section_display": true,
   "toc_window_display": true
  }
 },
 "nbformat": 4,
 "nbformat_minor": 2
}
