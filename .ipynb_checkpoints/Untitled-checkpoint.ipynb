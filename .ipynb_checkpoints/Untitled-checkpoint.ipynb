{
 "cells": [
  {
   "cell_type": "markdown",
   "metadata": {},
   "source": [
    "# Pipenv\n",
    "\n",
    "`pipenv` is a tool that allows managing application dependencies for python. It is preferred to pip, because it cleans up a number of issues and ensures that each application it is run for has its own virtual environment, on a per directory basis.\n",
    "\n",
    "\n"
   ]
  },
  {
   "cell_type": "markdown",
   "metadata": {},
   "source": [
    "The basic usage is as follows:\n",
    "\n",
    "```\n",
    "git clone/mkdir  project_url\n",
    "cd project\n",
    "pipenv shell\n",
    "# loop as needed\n",
    "# install packages to packages group\n",
    "pipenv install my_package\n",
    "# install packages to dev-packages group\n",
    "pipenv install my_package --dev\n",
    "# uninstall what is no longer needed\n",
    "pipenv uninstall my_package\n",
    "# sync Pipfile with Pipfile.lock\n",
    "pipenv sync \n",
    "\n",
    "```"
   ]
  },
  {
   "cell_type": "markdown",
   "metadata": {},
   "source": [
    "By doing this, you get a deterministic build locked in the spec of Pipfile.lock as well as the Pipfile which is more indicative. The 2 groups, more can be specified later - allow splitting out dev tools from production dependencies."
   ]
  },
  {
   "cell_type": "markdown",
   "metadata": {},
   "source": [
    "`exit` can be used to exit the shell specified by Pipfile."
   ]
  },
  {
   "cell_type": "code",
   "execution_count": null,
   "metadata": {},
   "outputs": [],
   "source": []
  }
 ],
 "metadata": {
  "kernelspec": {
   "display_name": "Python 3",
   "language": "python",
   "name": "python3"
  },
  "language_info": {
   "codemirror_mode": {
    "name": "ipython",
    "version": 3
   },
   "file_extension": ".py",
   "mimetype": "text/x-python",
   "name": "python",
   "nbconvert_exporter": "python",
   "pygments_lexer": "ipython3",
   "version": "3.7.3"
  }
 },
 "nbformat": 4,
 "nbformat_minor": 2
}
